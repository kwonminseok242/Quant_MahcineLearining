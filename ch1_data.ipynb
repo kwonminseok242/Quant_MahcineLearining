{
 "cells": [
  {
   "cell_type": "code",
   "execution_count": null,
   "id": "78e1c6cf",
   "metadata": {},
   "outputs": [],
   "source": [
    "import pandas as pd\n",
    "from rpy2.robjects import r, pandas2ri\n",
    "\n",
    "pandas2ri.activate()\n",
    "r['load']('data_ml.RData') #RData로드\n",
    "data_ml = pandas2ri.ri2py(r['data_ml'])"
   ]
  },
  {
   "cell_type": "code",
   "execution_count": 3,
   "id": "4b2c8e3f",
   "metadata": {},
   "outputs": [
    {
     "name": "stdout",
     "output_type": "stream",
     "text": [
      "odict_keys(['data_ml'])\n",
      "CSV저장완료: (283380, 99)\n"
     ]
    }
   ],
   "source": [
    "import pyreadr # RData 파일을 읽기 위한 라이브러리\n",
    "# 2) RData 안에 들어있는 객체(데이터프레임들) 이름을 확인\n",
    "# RData는 여러 객체를 담을 수 있어서, dict(사전)처럼 반환됨\n",
    "result = pyreadr.read_r('data_ml.RData')\n",
    "print(result.keys())\n",
    "# 3-a) 객체 이름을 알고 있을 때(예: 'data_ml')\n",
    "# 3-b) 혹시 정확한 이름을 모를 때: 첫 번째 객체를 꺼내기\n",
    "# data_ml = next(iter(result.values()))\n",
    "data_ml = result['data_ml']\n",
    "# 4) CSV로 저장\n",
    "# to_csv 인수 설명:\n",
    "# - 'data_ml.csv' : 저장할 파일명/경로\n",
    "# - index=False : DataFrame의 행 인덱스(0,1,2,...)를 파일에 쓰지 않음\n",
    "# - encoding='utf-8' : (선택) 한글 깨짐 방지. 기본은 utf-8이라 보통 생략 가능\n",
    "# - na_rep='': (선택) 결측값(NaN)을 빈칸으로 저장하고 싶을 때\n",
    "data_ml.to_csv('data_ml.csv', index=False)\n",
    "print(\"CSV저장완료:\", data_ml.shape)"
   ]
  },
  {
   "cell_type": "code",
   "execution_count": 7,
   "id": "692842a2",
   "metadata": {},
   "outputs": [
    {
     "data": {
      "text/html": [
       "<div>\n",
       "<style scoped>\n",
       "    .dataframe tbody tr th:only-of-type {\n",
       "        vertical-align: middle;\n",
       "    }\n",
       "\n",
       "    .dataframe tbody tr th {\n",
       "        vertical-align: top;\n",
       "    }\n",
       "\n",
       "    .dataframe thead th {\n",
       "        text-align: right;\n",
       "    }\n",
       "</style>\n",
       "<table border=\"1\" class=\"dataframe\">\n",
       "  <thead>\n",
       "    <tr style=\"text-align: right;\">\n",
       "      <th></th>\n",
       "      <th>stock_id</th>\n",
       "      <th>date</th>\n",
       "      <th>Advt_12M_Usd</th>\n",
       "      <th>Advt_3M_Usd</th>\n",
       "      <th>Advt_6M_Usd</th>\n",
       "      <th>Asset_Turnover</th>\n",
       "    </tr>\n",
       "  </thead>\n",
       "  <tbody>\n",
       "    <tr>\n",
       "      <th>0</th>\n",
       "      <td>13</td>\n",
       "      <td>2006-12-31</td>\n",
       "      <td>0.25</td>\n",
       "      <td>0.33</td>\n",
       "      <td>0.27</td>\n",
       "      <td>0.22</td>\n",
       "    </tr>\n",
       "    <tr>\n",
       "      <th>1</th>\n",
       "      <td>13</td>\n",
       "      <td>2007-01-31</td>\n",
       "      <td>0.25</td>\n",
       "      <td>0.32</td>\n",
       "      <td>0.28</td>\n",
       "      <td>0.22</td>\n",
       "    </tr>\n",
       "    <tr>\n",
       "      <th>2</th>\n",
       "      <td>13</td>\n",
       "      <td>2007-02-28</td>\n",
       "      <td>0.26</td>\n",
       "      <td>0.30</td>\n",
       "      <td>0.30</td>\n",
       "      <td>0.22</td>\n",
       "    </tr>\n",
       "    <tr>\n",
       "      <th>3</th>\n",
       "      <td>17</td>\n",
       "      <td>2015-03-31</td>\n",
       "      <td>0.73</td>\n",
       "      <td>0.64</td>\n",
       "      <td>0.70</td>\n",
       "      <td>0.40</td>\n",
       "    </tr>\n",
       "    <tr>\n",
       "      <th>4</th>\n",
       "      <td>17</td>\n",
       "      <td>2015-04-30</td>\n",
       "      <td>0.72</td>\n",
       "      <td>0.62</td>\n",
       "      <td>0.66</td>\n",
       "      <td>0.40</td>\n",
       "    </tr>\n",
       "    <tr>\n",
       "      <th>5</th>\n",
       "      <td>17</td>\n",
       "      <td>2015-05-31</td>\n",
       "      <td>0.71</td>\n",
       "      <td>0.63</td>\n",
       "      <td>0.64</td>\n",
       "      <td>0.40</td>\n",
       "    </tr>\n",
       "  </tbody>\n",
       "</table>\n",
       "</div>"
      ],
      "text/plain": [
       "   stock_id        date  Advt_12M_Usd  Advt_3M_Usd  Advt_6M_Usd  \\\n",
       "0        13  2006-12-31          0.25         0.33         0.27   \n",
       "1        13  2007-01-31          0.25         0.32         0.28   \n",
       "2        13  2007-02-28          0.26         0.30         0.30   \n",
       "3        17  2015-03-31          0.73         0.64         0.70   \n",
       "4        17  2015-04-30          0.72         0.62         0.66   \n",
       "5        17  2015-05-31          0.71         0.63         0.64   \n",
       "\n",
       "   Asset_Turnover  \n",
       "0            0.22  \n",
       "1            0.22  \n",
       "2            0.22  \n",
       "3            0.40  \n",
       "4            0.40  \n",
       "5            0.40  "
      ]
     },
     "execution_count": 7,
     "metadata": {},
     "output_type": "execute_result"
    }
   ],
   "source": [
    "import pandas as pd\n",
    "data_raw = pd.read_csv('data_ml.csv')\n",
    "idx_data = data_raw.index[(\n",
    "    data_raw['date'] > '1999-12-31') & (\n",
    "    data_raw['date'] < '2019-01-01')].tolist()\n",
    "# 날짜를 받기 위한 인덱스 생성\n",
    "data_ml = data_raw.iloc[idx_data]\n",
    "# 날짜 인덱스에 따라 데이터셋 필터링\n",
    "data_ml.iloc[0:6,0:6] # 데이터프레임 예시 출력"
   ]
  },
  {
   "cell_type": "code",
   "execution_count": 9,
   "id": "db6eeb40",
   "metadata": {},
   "outputs": [
    {
     "data": {
      "text/plain": [
       "Text(0, 0.5, 'nb_assets')"
      ]
     },
     "execution_count": 9,
     "metadata": {},
     "output_type": "execute_result"
    },
    {
     "data": {
      "image/png": "[encoded data removed]",
      "text/plain": [
       "<Figure size 800x400 with 1 Axes>"
      ]
     },
     "metadata": {},
     "output_type": "display_data"
    }
   ],
   "source": [
    "import matplotlib.pyplot as plt\n",
    "pd.Series(data_ml.groupby('date').size()).plot(figsize=(8,4))\n",
    "#각 날짜별 자산 수 개수 세기\n",
    "plt.ylabel('nb_assets')"
   ]
  },
  {
   "cell_type": "code",
   "execution_count": 13,
   "id": "e0ec87ab",
   "metadata": {},
   "outputs": [],
   "source": [
    "features=list(data_ml.iloc[:,3:95].columns)\n",
    "#특성의 열 이름을 저장해놓는다(하드코딩되어 있으니 주의할 것).\n",
    "features_short =[\"Div_YLd\", \"Eps\", \"Mkt_Cap_12M_Usd\",\"Mom_11M_Usd\",\"Ocf\",\"Pb\", \"Vol1Y_Usd\"]"
   ]
  },
  {
   "cell_type": "code",
   "execution_count": 15,
   "id": "13e5c86e",
   "metadata": {},
   "outputs": [
    {
     "data": {
      "text/plain": [
       "Text(0, 0.5, 'count')"
      ]
     },
     "execution_count": 15,
     "metadata": {},
     "output_type": "execute_result"
    },
    {
     "data": {
      "image/png": "[encoded data removed]",
      "text/plain": [
       "<Figure size 640x480 with 1 Axes>"
      ]
     },
     "metadata": {},
     "output_type": "display_data"
    }
   ],
   "source": [
    "col_feat_Div_Yld = data_ml.columns.get_loc('Div_Yld')\n",
    "# 특성 Div_Yld 열의 위치 찾기\n",
    "is_custom_date=data_ml['date']=='2000-02-29'\n",
    "# 필터링할 부울 인덱스 생성\n",
    "data_ml[is_custom_date].iloc[:,[col_feat_Div_Yld]].hist(bins=100)\n",
    "# 히스토그램 사용하기\n",
    "plt.ylabel('count')"
   ]
  },
  {
   "cell_type": "code",
   "execution_count": 21,
   "id": "d8d0fb38",
   "metadata": {},
   "outputs": [
    {
     "name": "stderr",
     "output_type": "stream",
     "text": [
      "/var/folders/6_/gfrk7lt15d79q76hpjbm56ph0000gn/T/ipykernel_90251/1399870463.py:11: SettingWithCopyWarning: \n",
      "A value is trying to be set on a copy of a slice from a DataFrame.\n",
      "Try using .loc[row_indexer,col_indexer] = value instead\n",
      "\n",
      "See the caveats in the documentation: https://pandas.pydata.org/pandas-docs/stable/user_guide/indexing.html#returning-a-view-versus-a-copy\n",
      "  data_ml['R1M_Usd_C'] = np.where( # 범주형 레이블 생성\n",
      "/var/folders/6_/gfrk7lt15d79q76hpjbm56ph0000gn/T/ipykernel_90251/1399870463.py:13: SettingWithCopyWarning: \n",
      "A value is trying to be set on a copy of a slice from a DataFrame.\n",
      "Try using .loc[row_indexer,col_indexer] = value instead\n",
      "\n",
      "See the caveats in the documentation: https://pandas.pydata.org/pandas-docs/stable/user_guide/indexing.html#returning-a-view-versus-a-copy\n",
      "  data_ml['R12M_Usd_C'] = np.where( # 범주형 레이블 생성\n"
     ]
    }
   ],
   "source": [
    "df_median=[] # 임시 데이터프레임을 위한 빈 리스트 생성\n",
    "df=[]        # 임시 데이터프레임을 위한 빈 리스트 생성\n",
    "import numpy as np\n",
    "df_median=data_ml[['date','R1M_Usd','R12M_Usd']].groupby(\n",
    "    ['date']).median() # 각 날짜별로 2개의 레이블에 대한 중간값 계산\n",
    "df_median.rename(\n",
    "    columns={\"R1M_Usd\": \"R1M_Usd_median\",\n",
    "             \"R12M_Usd\": \"R12M_Usd_median\"},inplace=True)\n",
    "df = pd.merge(data_ml,df_median,how='left', on=['date'])\n",
    "# 데이터프레임 합치기\n",
    "data_ml['R1M_Usd_C'] = np.where( # 범주형 레이블 생성\n",
    "    df['R1M_Usd'] > df['R1M_Usd_median'],1.0,0.0)\n",
    "data_ml['R12M_Usd_C'] = np.where( # 범주형 레이블 생성\n",
    "    df['R12M_Usd'] > df['R12M_Usd_median'],1.0,0.0)"
   ]
  },
  {
   "cell_type": "code",
   "execution_count": 22,
   "id": "5272277a",
   "metadata": {},
   "outputs": [],
   "source": [
    "separation_date = \"2014-01-15\"\n",
    "idx_train=data_ml.index[(data_ml['date']<separation_date)].tolist()\n",
    "idx_test=data_ml.index[(data_ml['date']<separation_date)].tolist()"
   ]
  },
  {
   "cell_type": "code",
   "execution_count": 23,
   "id": "3cb98427",
   "metadata": {},
   "outputs": [],
   "source": [
    "stock_ids_short=[]\n",
    "stock_days=[]\n",
    "stock_ids=data_ml['stock_id'].unique() # 모든 stock_ids의 리스트\n",
    "stock_days=data_ml[['date','stock_id']].groupby(\n",
    "    ['stock_id']).count().reset_index() # 각 주식별 데이터 포인트 개수 세기\n",
    "stock_ids_short=stock_days.loc[\n",
    "    stock_days['date']==(stock_days['date'].max())]\n",
    "# 데이터가 전부 있는 주식을 \n",
    "stock_ids_short=stock_ids_short['stock_id'].unique()\n",
    "# 리스트로 변환\n",
    "is_stock_ids_short=data_ml['stock_id'].isin(stock_ids_short)\n",
    "returns=data_ml[is_stock_ids_short].pivot(\n",
    "    index='date',columns='stock_id',values='R1M_Usd' # 수익률 행렬\n",
    ")"
   ]
  }
 ],
 "metadata": {
  "kernelspec": {
   "display_name": "qml",
   "language": "python",
   "name": "python3"
  },
  "language_info": {
   "codemirror_mode": {
    "name": "ipython",
    "version": 3
   },
   "file_extension": ".py",
   "mimetype": "text/x-python",
   "name": "python",
   "nbconvert_exporter": "python",
   "pygments_lexer": "ipython3",
   "version": "3.11.8"
  }
 },
 "nbformat": 4,
 "nbformat_minor": 5
}
